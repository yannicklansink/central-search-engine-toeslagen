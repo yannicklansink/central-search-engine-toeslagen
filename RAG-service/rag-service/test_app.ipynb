{
 "cells": [
  {
   "cell_type": "code",
   "execution_count": 1,
   "id": "9e545fe7-e7ec-4b16-89ae-6820bb534454",
   "metadata": {
    "scrolled": true
   },
   "outputs": [],
   "source": [
    "import os\n",
    "\n",
    "from dotenv import load_dotenv\n",
    "\n",
    "from langchain_openai import OpenAIEmbeddings, ChatOpenAI\n",
    "from langchain_community.vectorstores import Pinecone\n",
    "from langchain_core.output_parsers import StrOutputParser\n",
    "from langchain_core.prompts import ChatPromptTemplate\n",
    "from langchain_core.runnables import RunnableParallel, RunnablePassthrough, RunnableLambda\n",
    "from pinecone import Pinecone as PineconeClient\n",
    "import requests\n"
   ]
  },
  {
   "cell_type": "markdown",
   "id": "5621b9f9-f277-4d06-8bb0-72644792f2f8",
   "metadata": {},
   "source": [
    "Serverless index from [this dataset](https://huggingface.co/datasets/Cohere/wikipedia-22-12)."
   ]
  },
  {
   "cell_type": "code",
   "execution_count": 3,
   "id": "3de2de5e-aad0-4ca3-b816-f2cb07b2d251",
   "metadata": {},
   "outputs": [],
   "source": [
    "# Init\n",
    "pinecone = PineconeClient(api_key=PINECONE_API_KEY)\n",
    "\n",
    "embeddings = OpenAIEmbeddings(model=\"text-embedding-ada-002\")\n",
    "vectorstore = Pinecone.from_existing_index(index_name=PINECONE_INDEX_NAME,\n",
    "                                           embedding=embeddings)\n",
    "\n",
    "retriever = vectorstore.as_retriever()"
   ]
  },
  {
   "cell_type": "code",
   "execution_count": 4,
   "id": "94a2d3e8-fce0-4964-8bb9-21b423832f5b",
   "metadata": {},
   "outputs": [],
   "source": [
    "from langchain_core.prompts import ChatPromptTemplate\n",
    "from langchain_openai import ChatOpenAI\n",
    "\n",
    "# RAG\n",
    "model = ChatOpenAI(temperature=0, \n",
    "                   model=\"gpt-4-1106-preview\")\n",
    "\n",
    "prompt = ChatPromptTemplate.from_template(\"tell me a joke about {topic}\")\n",
    "chain = prompt | model"
   ]
  },
  {
   "cell_type": "code",
   "execution_count": 5,
   "id": "5877bd56-4981-4d14-bf51-35115640f0a7",
   "metadata": {},
   "outputs": [
    {
     "data": {
      "text/plain": [
       "{'title': 'PromptInput',\n",
       " 'type': 'object',\n",
       " 'properties': {'topic': {'title': 'Topic', 'type': 'string'}}}"
      ]
     },
     "execution_count": 5,
     "metadata": {},
     "output_type": "execute_result"
    }
   ],
   "source": [
    "# Input Schema\n",
    "# A description of the inputs accepted by a Runnable. \n",
    "# This is a Pydantic model dynamically generated from the structure of any Runnable. \n",
    "# You can call .schema() on it to obtain a JSONSchema representation.\n",
    "\n",
    "# The input schema of the chain is the input schema of its first part, the prompt.\n",
    "chain.input_schema.schema()"
   ]
  },
  {
   "cell_type": "code",
   "execution_count": 6,
   "id": "9586b0fa-8555-4bcc-8cfc-ffea62fddc67",
   "metadata": {},
   "outputs": [],
   "source": [
    "# from langchain.chains import create_retrieval_chain\n",
    "# from langchain.chains.combine_documents import create_stuff_documents_chain\n",
    "\n",
    "from langchain_core.output_parsers import StrOutputParser\n",
    "from langchain_core.runnables import RunnablePassthrough\n",
    "\n",
    "system_prompt = (\n",
    "    \"You are an assistant for question-answering tasks. \"\n",
    "    \"Use the following pieces of retrieved context to answer \"\n",
    "    \"the question. If you don't know the answer, say that you \"\n",
    "    \"don't know. Use three sentences maximum and keep the \"\n",
    "    \"answer concise.\"\n",
    "    \"\\n\\n\"\n",
    "    \"{context}\"\n",
    ")\n",
    "\n",
    "prompt = ChatPromptTemplate.from_messages(\n",
    "    [\n",
    "        (\"system\", system_prompt),\n",
    "        (\"human\", \"{input}\"),\n",
    "    ]\n",
    ")\n",
    "# RAG\n",
    "model = ChatOpenAI(temperature=0, \n",
    "                   model=\"gpt-4-1106-preview\")\n",
    "\n",
    "# Define the chain to directly pass documents without additional formatting\n",
    "rag_chain_from_docs = (\n",
    "    RunnablePassthrough.assign(context=lambda x: x[\"context\"])\n",
    "    | prompt\n",
    "    | model\n",
    "    | StrOutputParser()\n",
    ")\n",
    "\n",
    "# Retrieve documents based on the input question\n",
    "retrieve_docs = (lambda x: x[\"input\"]) | retriever\n",
    "\n",
    "# Chain setup to get documents and use them in the RAG chain\n",
    "chain = RunnablePassthrough.assign(context=retrieve_docs).assign(\n",
    "    answer=rag_chain_from_docs\n",
    ")\n",
    "\n",
    "# question_answer_chain = create_stuff_documents_chain(model, prompt)\n",
    "# chain = create_retrieval_chain(retriever, question_answer_chain)"
   ]
  },
  {
   "cell_type": "code",
   "execution_count": 7,
   "id": "78a9ffc3-0779-41ac-aeb3-213024959e8e",
   "metadata": {},
   "outputs": [
    {
     "data": {
      "text/plain": [
       "{'title': 'RunnableSequenceInput',\n",
       " 'type': 'object',\n",
       " 'properties': {'input': {'title': 'Input', 'type': 'string'}}}"
      ]
     },
     "execution_count": 7,
     "metadata": {},
     "output_type": "execute_result"
    }
   ],
   "source": [
    "chain.input_schema.schema()"
   ]
  },
  {
   "cell_type": "code",
   "execution_count": 44,
   "id": "81c13ad6-cebb-4789-a9e6-816bca4e66bb",
   "metadata": {},
   "outputs": [
    {
     "data": {
      "text/plain": [
       "{'input': 'wie is yannick?',\n",
       " 'context': [Document(metadata={'filename': 'ticket.pdf', 'filetype': 'application/pdf', 'orig_elements': 'eJy9kMFqwzAQRH9F6FwSeW3Jdk499NJLKKXQQwhhJa0dNbJqHCU0hPx7pbSloR/Q68wbmJnVmZOngULcOMsXjBfGWlloITpbtjUYqExRKaPrzpoWCPgd4wNFtBgx8WfeOU8BB8rh6MyO4my0XcayE0/j1cFx9M5gdO9h/m17DP0Be9onf8Up9Hyd1DEpm3AYNE1Jh6sy/dYD1aRuLQIYW6mSbGs7I0SFthGigYJfUiLSR8zwM3WUs47Y48OCKVUBSCWh0I2RQoDVVNZA7JXYlrSmwN6IaTrSPrrehZ71NKDzlgXEiZ0whLRvlnrvXdjde3ekWfB5ys/KJU5T2nikl9wgVfn7bt3UtSgbgSTaQirTgIRWtkZI3VGlxD+/e3sWsDmD2zFPiV1+oZf1J0z0q10=', 'page_number': 2.0}, page_content='Referentie ID: 6642256521b8c5002dbe372e We hebben je bevestiging gemaild naar yannick.lansink@live.nl\\n\\n2 / 2'),\n",
       "  Document(metadata={'filename': 'ticket.pdf', 'filetype': 'application/pdf', 'orig_elements': 'eJzVld1u1DAQhV/FynVZ7Dj+6xWlFQgBFRJbIdRW1cQe77qbOEviVGwr3h2nC9KCitTesOpNFJ0Zj/2dcSbndwU22GJMV8EVh6SgTHHLaC20dYZjyTRV0knQSJ0BoYoDUrSYwEGCnH9X+NBghBanxSnYFabZ2vkpbYqkzfo+Aut1Eyyk0MWXv8INxMUICxxy/LzAuCgus7rOylUc2xr7rLMfWUr4PU01PobrSLZbDFOB37XnITVY5My/WUC6ykk0UjPqmWCgwCNVmaW0nqtqjyxvsesXEMOA2Dviuq4nn/OOyxTigsyXYz842MyOm250j0KlXDqnHa05s1aU1MuKc0WFNMBL1PtEvSjIDbkYKQVF3pO4i/OuzcsexGFMGkM9Wk+V8ywjaV8z66GywnvYI85RQ467th1jSBtyAptHtQdV7bU03PsKc6eYyI0yKJnzNaeyLPfI85o/isCJyvNKU6uUq6BW3HiVXynXNVrr2H8muFf6Jxj8x42cLiPuYp/FfAZcdH24RTef0h6wQErKtBGCSyam+kIIEBprxqUGVeFzsoBVpMVASlpWhIlDSskLsquVLGu7Dp1C3+cz3uC/3DEGmAGKqsxPI3IR6fOXK7A21tS1e07uzJdI3kDdh28jZmM+YT9gH67JFxzSCiJA48L1iqgDwkVVkpMjcpZ6zNP7gJxiWmKfj+iGJ9mnpaeWVrYE7XRljaMCODVKW+lsTf0eJ8QpQEu+Qox5F/IB4hDiihzlKjjYJfi0/X1ttgmzZpvwqsmws9g8MFwufwIoqqBD', 'page_number': 1.0}, page_content='Mijn tickets\\n\\nGeorganiseerd door Stichting Thursday.Cloud\\n\\n\" v § K n\\n\\nAl Community Day\\n\\nB3\\n\\n®\\n\\n14 mei 2024 15:00 - 14 mei 2024 21:00\\n\\nThe Fabrique - Perserij Westkanaaldijk 7, 3542 DA Utrecht, Netherlands\\n\\nNaam Yannick Lansink Aangeschaft door yannick.lansink@live.nl'),\n",
       "  Document(metadata={'filename': 'ticket.pdf', 'filetype': 'application/pdf', 'orig_elements': 'eJyVUtFO4zAQ/JWVnwtx0uTSoKpSRe8Bge4JhBBC1cbetL7GTpRsERXi37HT0OPuXuApzszOeGeSx1dBNVlyvDZaXIDQuayKWazVrIyVzuS0lGlWVBXGqSxzXYoJCEuMGhn9/KuoTE0OLQUxG7UjPm91FcYCw4d2YLBta6OQTeOika7Rbfa4od7zj4LcRjx5tPXI2u1tSZ3HkwHp/qxXznKlUlXkVZHPfsjKrzuNi2KqUpnFmZTBmOmF19ivt2zroJkzljUt5rwl1P7RhePiummpm0f+FN4e0Dm/PNyg643bHfEojEYfsrLRh1GtFz+fyQ21eV4PyLKGy8bavTN8gBUejsRgMWpumlAAnRT31PMOHWKtze8d5BOYZmkCqyXccUdqyxP4Rf72zjel+//9Vsh7e3KLU7BkIJFJCnF2ISWcwWcsiT32ySQaA0XHdsTb2FxobOgG/ukETplhefV3VhijwfciwZAAvrT58GHHn+k2bCzent4B90zcvA==', 'page_number': 2.0, 'text_as_html': '<table><thead><tr><th>Koper</th><th>Yannick Lansink</th></tr></thead><tbody><tr><td>Evenement</td><td>Al Community Day</td></tr><tr><td>Locatie</td><td>Westkanaaldijk 7, 3542 DA Utrecht, Netherlands</td></tr><tr><td>Datum</td><td>14 mei 2024 15:00 - 14 mei 2024 21:00</td></tr></tbody></table>'}, page_content='Koper Yannick Lansink Evenement AI Community Day Locatie Westkanaaldijk 7, 3542 DA Utrecht, Netherlands Datum 14 mei 2024 15:00 - 14 mei 2024 21:00'),\n",
       "  Document(metadata={'filename': 'football.txt', 'filetype': 'text/plain', 'orig_elements': 'eJy9kkFv1DAQhf/KkAsgrZZ4k012OQKih6oVqpCKVCo0icdZb7x2sJ3sthX/nXEWOHBA4tJLrPiNx57vvbunjAwdyMZvWmZvIVtRJTDHPFdl02IlmkpSjbUs8mJbq63MFpAdKKLEiFz/lCltyOKB0mHlXGzQmGU8xVSYtPgwzFqkU3wzGNQ2KQZtN2JHgaW7zBqZ3f9YnItS8YV2E1qrgb/wzjvb9jvnQ4QPBI9EHhqK3o3HBj2B0bYPDbY9HDGA1RThSB1EAkm2JwujjrDj3Uh4mDve6H2P6OUSLrmZJNAWVnlec4UfO7CswaPeW+i8i+kCUlz0kR7IOsfH0gS/57pG7zHqiT6nt/MQfxMVVYWrUgnarishC7nabES1KiukTV2gqp+H6A0qJANXX8c8J+G/j/QIt4wr6j1TCjDpvYJXL17D7eXLwOAA0U4uwfEzsis66dYB04xjCDTzKmBeRQ50pkzJohCx0YwAeo/tLoIbZvgHLfmiiYw8m4q+JeMs/h/Mui3LddOWYi3KTSsEyW1ZyELUsqqV2myfB+YXnHSK4m7UUne8Oqdk9Hz4F60/03ESvYSBQRtkPAtwNhH9RANcjJxA7QwuOM2h3XGcJaAJTCrwr2akR3aMrWCZUxgGRnFuz3vveUB+JdklXCO7E4JenC2Yg/0PqPc/Ae9ET14='}, page_content=\"Giovanni van Bronckhorst De zeer betrouwbare linksback was niet weg te denken uit het team van Rijkaard. Keerde in 2007 terug naar zijn grote liefde Feyenoord.\\n\\nRafael Márquez Was tijdens vijf (!) WK's de aanvoerder van Mexico en tussen 2003 en 2010 een uiterst stabiele kracht op het middenveld van Barcelona.\\n\\nXavi De huidige hoofdtrainer van Barcelona werd pas later, onder Pep Guardiola, beschouwd als misschien wel de beste speler van de Catalanen. Na Messi, uiteraard.\")],\n",
       " 'answer': 'Yannick Lansink is de naam van een persoon die een ticket heeft gekocht voor het evenement \"AI Community Day\" dat plaatsvindt op 14 mei 2024 in The Fabrique in Utrecht, Nederland. Hij heeft het ticket zelf aangeschaft via het e-mailadres yannick.lansink@live.nl.'}"
      ]
     },
     "execution_count": 44,
     "metadata": {},
     "output_type": "execute_result"
    }
   ],
   "source": [
    "result = chain.invoke({\"input\": \"wie is yannick?\"})\n",
    "result"
   ]
  },
  {
   "cell_type": "code",
   "execution_count": null,
   "id": "9924e0d9-6f7e-4b1e-abbf-44167b6d614b",
   "metadata": {},
   "outputs": [],
   "source": []
  }
 ],
 "metadata": {
  "kernelspec": {
   "display_name": "Python 3 (ipykernel)",
   "language": "python",
   "name": "python3"
  },
  "language_info": {
   "codemirror_mode": {
    "name": "ipython",
    "version": 3
   },
   "file_extension": ".py",
   "mimetype": "text/x-python",
   "name": "python",
   "nbconvert_exporter": "python",
   "pygments_lexer": "ipython3",
   "version": "3.12.3"
  }
 },
 "nbformat": 4,
 "nbformat_minor": 5
}
